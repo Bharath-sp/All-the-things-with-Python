{
 "cells": [
  {
   "cell_type": "markdown",
   "metadata": {
    "id": "fRBzECdN36Bv"
   },
   "source": [
    "**cvxopt** can be used to optimize convex functions.\n",
    "\n",
    "### Constrained Linear programming problem: \n",
    "\n",
    "General LPP formulation:\n",
    "\\begin{align*} \n",
    "    \\min_{x ∈ \\mathbb{R}^n} c^Tx \\enspace subject \\enspace to \\enspace Gx\\leq h \\enspace and \\enspace Ax= b\n",
    "\\end{align*}\n"
   ]
  },
  {
   "cell_type": "markdown",
   "metadata": {},
   "source": [
    "$\\min z=2x_1+3x_2$ subject to <br>\n",
    "$x_1+x_2\\geq2$ <br>\n",
    "$2x_1+3x_2\\leq12$ <br>\n",
    "$x_1\\geq0$ <br>\n",
    "$x_2\\geq0$"
   ]
  },
  {
   "cell_type": "markdown",
   "metadata": {},
   "source": [
    "$z = \n",
    "\\begin{pmatrix}\n",
    "2 & 3\n",
    "\\end{pmatrix} \\begin{pmatrix}\n",
    "x_1 \\\\\n",
    "x_2\n",
    "\\end{pmatrix}$ \n",
    "\n",
    "$c=\\begin{pmatrix}\n",
    "2 \\\\ 3\n",
    "\\end{pmatrix}; G=\\begin{pmatrix} -1 & -1 \\\\ 2 & 3 \\\\ -1 & 0 \\\\ 0 & -1 \\end{pmatrix}; h= \\begin{pmatrix} -2 \\\\ 12 \\\\ 0 \\\\ 0 \\end{pmatrix}$"
   ]
  },
  {
   "cell_type": "code",
   "execution_count": 1,
   "metadata": {
    "executionInfo": {
     "elapsed": 25,
     "status": "ok",
     "timestamp": 1648109080919,
     "user": {
      "displayName": "S.P.Bharath Kumar",
      "photoUrl": "https://lh3.googleusercontent.com/a-/AOh14GiKYtLXrotnsgOsMGyZ_06OqtPH2EOxq8ehVNIigw=s64",
      "userId": "16119251316388226045"
     },
     "user_tz": -330
    },
    "id": "i7WfXIk43xIO"
   },
   "outputs": [],
   "source": [
    "from cvxopt import matrix, solvers"
   ]
  },
  {
   "cell_type": "code",
   "execution_count": 2,
   "metadata": {
    "colab": {
     "base_uri": "https://localhost:8080/"
    },
    "executionInfo": {
     "elapsed": 15,
     "status": "ok",
     "timestamp": 1648109400071,
     "user": {
      "displayName": "S.P.Bharath Kumar",
      "photoUrl": "https://lh3.googleusercontent.com/a-/AOh14GiKYtLXrotnsgOsMGyZ_06OqtPH2EOxq8ehVNIigw=s64",
      "userId": "16119251316388226045"
     },
     "user_tz": -330
    },
    "id": "leSlSXEn9F-Y",
    "outputId": "d7563cbe-bc01-4255-9e12-5a42042f9ae1"
   },
   "outputs": [
    {
     "data": {
      "text/plain": [
       "(2, 4)"
      ]
     },
     "execution_count": 2,
     "metadata": {},
     "output_type": "execute_result"
    }
   ],
   "source": [
    "G=matrix([[-1,-1],[2,3],[-1,0],[0,-1]])\n",
    "G.size"
   ]
  },
  {
   "cell_type": "code",
   "execution_count": 3,
   "metadata": {
    "colab": {
     "base_uri": "https://localhost:8080/"
    },
    "executionInfo": {
     "elapsed": 465,
     "status": "ok",
     "timestamp": 1648109340210,
     "user": {
      "displayName": "S.P.Bharath Kumar",
      "photoUrl": "https://lh3.googleusercontent.com/a-/AOh14GiKYtLXrotnsgOsMGyZ_06OqtPH2EOxq8ehVNIigw=s64",
      "userId": "16119251316388226045"
     },
     "user_tz": -330
    },
    "id": "6_NPd6d492it",
    "outputId": "ace3c1b2-ed2b-4dd1-a8b3-c91afe99388b"
   },
   "outputs": [
    {
     "data": {
      "text/plain": [
       "(4, 2)"
      ]
     },
     "execution_count": 3,
     "metadata": {},
     "output_type": "execute_result"
    }
   ],
   "source": [
    "#But in numpy:\n",
    "import numpy as np\n",
    "a=np.array([[-1,-1],[2,3],[-1,0],[0,-1]])\n",
    "a.shape"
   ]
  },
  {
   "cell_type": "code",
   "execution_count": 25,
   "metadata": {
    "colab": {
     "base_uri": "https://localhost:8080/"
    },
    "executionInfo": {
     "elapsed": 442,
     "status": "ok",
     "timestamp": 1648109505060,
     "user": {
      "displayName": "S.P.Bharath Kumar",
      "photoUrl": "https://lh3.googleusercontent.com/a-/AOh14GiKYtLXrotnsgOsMGyZ_06OqtPH2EOxq8ehVNIigw=s64",
      "userId": "16119251316388226045"
     },
     "user_tz": -330
    },
    "id": "_v3800nv-mDt",
    "outputId": "42f5b71d-f406-403a-828b-0ed4a329bf21"
   },
   "outputs": [
    {
     "data": {
      "text/plain": [
       "(4, 2)"
      ]
     },
     "execution_count": 25,
     "metadata": {},
     "output_type": "execute_result"
    }
   ],
   "source": [
    "G=matrix([[-1.0,2.0,-1.0,0.0],[-1.0,3.0,0.0,-1.0]])\n",
    "G.size"
   ]
  },
  {
   "cell_type": "code",
   "execution_count": 26,
   "metadata": {
    "colab": {
     "base_uri": "https://localhost:8080/"
    },
    "executionInfo": {
     "elapsed": 502,
     "status": "ok",
     "timestamp": 1648109555756,
     "user": {
      "displayName": "S.P.Bharath Kumar",
      "photoUrl": "https://lh3.googleusercontent.com/a-/AOh14GiKYtLXrotnsgOsMGyZ_06OqtPH2EOxq8ehVNIigw=s64",
      "userId": "16119251316388226045"
     },
     "user_tz": -330
    },
    "id": "HJSS3_6Z90n_",
    "outputId": "7d5b8f35-9884-4ba9-fde3-872f336f87d8"
   },
   "outputs": [
    {
     "name": "stdout",
     "output_type": "stream",
     "text": [
      "[-1.00e+00 -1.00e+00]\n",
      "[ 2.00e+00  3.00e+00]\n",
      "[-1.00e+00  0.00e+00]\n",
      "[ 0.00e+00 -1.00e+00]\n",
      "\n"
     ]
    }
   ],
   "source": [
    "print(G)"
   ]
  },
  {
   "cell_type": "code",
   "execution_count": 27,
   "metadata": {
    "executionInfo": {
     "elapsed": 1581,
     "status": "ok",
     "timestamp": 1648109821521,
     "user": {
      "displayName": "S.P.Bharath Kumar",
      "photoUrl": "https://lh3.googleusercontent.com/a-/AOh14GiKYtLXrotnsgOsMGyZ_06OqtPH2EOxq8ehVNIigw=s64",
      "userId": "16119251316388226045"
     },
     "user_tz": -330
    },
    "id": "8U3QzQgc99wt"
   },
   "outputs": [],
   "source": [
    "c=matrix([2.0, 3.0])\n",
    "h=matrix([-2.0, 12.0, 0.0, 0.0])"
   ]
  },
  {
   "cell_type": "markdown",
   "metadata": {},
   "source": [
    "solvers.lp uses interior point method to find the optimal solution of the linear programming problem."
   ]
  },
  {
   "cell_type": "code",
   "execution_count": 28,
   "metadata": {
    "colab": {
     "base_uri": "https://localhost:8080/"
    },
    "executionInfo": {
     "elapsed": 1602,
     "status": "ok",
     "timestamp": 1648109884451,
     "user": {
      "displayName": "S.P.Bharath Kumar",
      "photoUrl": "https://lh3.googleusercontent.com/a-/AOh14GiKYtLXrotnsgOsMGyZ_06OqtPH2EOxq8ehVNIigw=s64",
      "userId": "16119251316388226045"
     },
     "user_tz": -330
    },
    "id": "aErUss6c_qGf",
    "outputId": "8fe2f106-8d37-498d-f68d-7619bdb8e9fc"
   },
   "outputs": [
    {
     "name": "stdout",
     "output_type": "stream",
     "text": [
      "     pcost       dcost       gap    pres   dres   k/t\n",
      " 0:  1.0471e+01 -7.7647e+00  1e+01  0e+00  5e-01  1e+00\n",
      " 1:  8.4116e+00  2.4976e+00  5e+00  3e-16  2e-01  5e-01\n",
      " 2:  4.5406e+00  3.5762e+00  9e-01  4e-16  3e-02  2e-01\n",
      " 3:  4.0080e+00  3.9869e+00  2e-02  3e-17  7e-04  5e-03\n",
      " 4:  4.0001e+00  3.9999e+00  2e-04  2e-16  7e-06  5e-05\n",
      " 5:  4.0000e+00  4.0000e+00  2e-06  4e-16  7e-08  5e-07\n",
      "Optimal solution found.\n"
     ]
    }
   ],
   "source": [
    "sol = solvers.lp(c, G, h)"
   ]
  },
  {
   "cell_type": "code",
   "execution_count": 29,
   "metadata": {
    "colab": {
     "base_uri": "https://localhost:8080/"
    },
    "executionInfo": {
     "elapsed": 445,
     "status": "ok",
     "timestamp": 1648109965317,
     "user": {
      "displayName": "S.P.Bharath Kumar",
      "photoUrl": "https://lh3.googleusercontent.com/a-/AOh14GiKYtLXrotnsgOsMGyZ_06OqtPH2EOxq8ehVNIigw=s64",
      "userId": "16119251316388226045"
     },
     "user_tz": -330
    },
    "id": "F1pDL8ijAPLc",
    "outputId": "8a7dc5e8-ac37-476d-924e-824ea91ffb20"
   },
   "outputs": [
    {
     "name": "stdout",
     "output_type": "stream",
     "text": [
      "[ 2.00e+00]\n",
      "[ 5.38e-07]\n",
      "\n"
     ]
    }
   ],
   "source": [
    "print(sol['x'])"
   ]
  },
  {
   "cell_type": "markdown",
   "metadata": {
    "id": "tKF6i6b5A1Ox"
   },
   "source": [
    "The optimal solution is \\(2,0) and the value of the objective function (pcost) is 4"
   ]
  },
  {
   "cell_type": "markdown",
   "metadata": {
    "id": "wMxIuGxuAkts"
   },
   "source": [
    "To know what the solution is in the $n^{th}$ iteration, say 2nd iteration:"
   ]
  },
  {
   "cell_type": "code",
   "execution_count": 30,
   "metadata": {
    "id": "5JHCl9mUBGGN"
   },
   "outputs": [
    {
     "name": "stdout",
     "output_type": "stream",
     "text": [
      "     pcost       dcost       gap    pres   dres   k/t\n",
      " 0:  1.0471e+01 -7.7647e+00  1e+01  0e+00  5e-01  1e+00\n",
      " 1:  8.4116e+00  2.4976e+00  5e+00  3e-16  2e-01  5e-01\n",
      " 2:  4.5406e+00  3.5762e+00  9e-01  4e-16  3e-02  2e-01\n",
      "Terminated (maximum number of iterations reached).\n",
      "[ 1.50e+00]\n",
      "[ 5.12e-01]\n",
      "\n"
     ]
    }
   ],
   "source": [
    "sol = solvers.lp(c, G, h, options={'maxiters':2})\n",
    "print(sol['x'])"
   ]
  },
  {
   "cell_type": "markdown",
   "metadata": {},
   "source": [
    "### Constrained Quadratic Programming problem:\n",
    "\n",
    "General QPP formulation:\n",
    "\\begin{align*} \n",
    "    \\min_{x ∈ \\mathbb{R}^n} q^Tx+\\frac{1}{2} x^TPx \\enspace subj\\enspace to \\enspace Gx\\leq h \\enspace and \\enspace Ax=b\n",
    "\\end{align*}\n",
    "\n",
    "QPP: Objective function is quadratic and all the constraint functions are linear. It is said to be a convex programming problem if the P in the objective function is a symmetric positive semi-definite matrix."
   ]
  },
  {
   "cell_type": "markdown",
   "metadata": {},
   "source": [
    "$\\min f=x_1^2+x_1x_2+2x_2^2+3x_1+4x_2$ subject to <br>\n",
    "$2x_1+x_2=1$ <br>\n",
    "$x_1\\geq0$ <br>\n",
    "$x_2\\geq0$"
   ]
  },
  {
   "cell_type": "markdown",
   "metadata": {},
   "source": [
    "$f = \n",
    "\\begin{pmatrix}\n",
    "3 & 4\n",
    "\\end{pmatrix} \\begin{pmatrix}\n",
    "x_1 \\\\\n",
    "x_2\n",
    "\\end{pmatrix} + \\frac{1}{2}\\begin{pmatrix} x_1 & x_2 \\end{pmatrix} \\begin{pmatrix} 2 & 1 \\\\ 1 & 4 \\end{pmatrix} \\begin{pmatrix} x_1 \\\\ x_2 \\end{pmatrix}$\n",
    "\n",
    "$P=\\begin{pmatrix} 2 & 1 \\\\ 1 & 4 \\end{pmatrix}; q=\\begin{pmatrix} 3 \\\\ 4 \\end{pmatrix}$\n",
    "\n",
    "$ G=\\begin{pmatrix} -1 & 0 \\\\ 0 & -1 \\end{pmatrix} ; h=\\begin{pmatrix} 0 \\\\ 0 \\end{pmatrix}; A=\\begin{pmatrix} 2 & 1 \\end{pmatrix}; b=[1]$"
   ]
  },
  {
   "cell_type": "code",
   "execution_count": 22,
   "metadata": {},
   "outputs": [],
   "source": [
    "P=matrix([[2.0,1.0],[1.0,4.0]])\n",
    "q=matrix([3.0,4.0])\n",
    "G=matrix([[-1.0,0.0],[0.0,-1.0]])\n",
    "h=matrix([0.0,0.0])\n",
    "A=matrix([[2.0],[1.0]])  #be careful\n",
    "b=matrix([1.0])"
   ]
  },
  {
   "cell_type": "code",
   "execution_count": 23,
   "metadata": {},
   "outputs": [
    {
     "name": "stdout",
     "output_type": "stream",
     "text": [
      "     pcost       dcost       gap    pres   dres\n",
      " 0:  9.5845e-01  1.2687e+00  4e+00  2e+00  5e-01\n",
      " 1:  1.5738e+00  1.4440e+00  4e-01  1e-01  3e-02\n",
      " 2:  1.7511e+00  1.7379e+00  1e-02  2e-16  4e-16\n",
      " 3:  1.7500e+00  1.7499e+00  1e-04  6e-17  5e-17\n",
      " 4:  1.7500e+00  1.7500e+00  1e-06  6e-17  9e-17\n",
      "Optimal solution found.\n",
      "[ 5.00e-01]\n",
      "[ 4.28e-08]\n",
      "\n"
     ]
    }
   ],
   "source": [
    "sol=solvers.qp(P,q,G,h,A,b)\n",
    "print(sol['x'])"
   ]
  },
  {
   "cell_type": "markdown",
   "metadata": {},
   "source": [
    "We can use cvxopt to solve constrained non-linear convex optimization problems as well. <br>\n",
    "Unconstrained convex problems can also be solved."
   ]
  },
  {
   "cell_type": "code",
   "execution_count": null,
   "metadata": {},
   "outputs": [],
   "source": []
  }
 ],
 "metadata": {
  "colab": {
   "authorship_tag": "ABX9TyNjl5LhqUaiwHBKWc8ySxob",
   "collapsed_sections": [],
   "name": "Optimization using CVXOPT.ipynb",
   "provenance": []
  },
  "kernelspec": {
   "display_name": "Python 3 (ipykernel)",
   "language": "python",
   "name": "python3"
  },
  "language_info": {
   "codemirror_mode": {
    "name": "ipython",
    "version": 3
   },
   "file_extension": ".py",
   "mimetype": "text/x-python",
   "name": "python",
   "nbconvert_exporter": "python",
   "pygments_lexer": "ipython3",
   "version": "3.9.7"
  }
 },
 "nbformat": 4,
 "nbformat_minor": 1
}
