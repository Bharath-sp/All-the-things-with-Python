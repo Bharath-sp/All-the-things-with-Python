{
 "cells": [
  {
   "cell_type": "markdown",
   "metadata": {},
   "source": [
    "## Measures of Linear relationship between pairs of data\n",
    "Say there are $n$ pairs of elements $(x_{1},y_{1}), (x_{2},y_{2}),.., (x_{n},y_{n})$"
   ]
  },
  {
   "cell_type": "code",
   "execution_count": 2,
   "metadata": {},
   "outputs": [],
   "source": [
    "x = list(range(-10, 11))\n",
    "y = [0, 2, 2, 2, 2, 3, 3, 6, 7, 4, 7, 6, 6, 9, 4, 5, 5, 10, 11, 12, 14]\n",
    "x_, y_ = np.array(x), np.array(y)\n",
    "x__, y__ = pd.Series(x_), pd.Series(y_)"
   ]
  },
  {
   "cell_type": "markdown",
   "metadata": {},
   "source": [
    "### Sample Covariance\n",
    "$S_{xy}=\\frac{1}{N-1} \\sum_{i=0}^{N-1}(x_{i}-\\bar{x})(y_{i}-\\bar{y})$ where $N$ is the number of observations"
   ]
  },
  {
   "cell_type": "code",
   "execution_count": 5,
   "metadata": {},
   "outputs": [],
   "source": [
    "# Pure python\n",
    "def samp_cov(x,y):\n",
    "    if len(x)==len(y):\n",
    "        n=len(x)\n",
    "        x_mean= sum(x)/n\n",
    "        y_mean= sum(y)/n\n",
    "        cov_xy= sum( (x[k]-x_mean)*(y[k]-y_mean) for k in range(n))/(n-1)\n",
    "        return (cov_xy)\n",
    "    else:\n",
    "        print('Lists are of different length!')"
   ]
  },
  {
   "cell_type": "code",
   "execution_count": 6,
   "metadata": {},
   "outputs": [
    {
     "data": {
      "text/plain": [
       "19.95"
      ]
     },
     "execution_count": 6,
     "metadata": {},
     "output_type": "execute_result"
    }
   ],
   "source": [
    "samp_cov(x,y)"
   ]
  },
  {
   "cell_type": "code",
   "execution_count": 8,
   "metadata": {},
   "outputs": [
    {
     "data": {
      "text/plain": [
       "19.95"
      ]
     },
     "execution_count": 8,
     "metadata": {},
     "output_type": "execute_result"
    }
   ],
   "source": [
    "# Numpy cov() returns the covariance matrix\n",
    "cov_matrix = np.cov(x_, y_)\n",
    "cov_matrix[0,1]"
   ]
  },
  {
   "cell_type": "code",
   "execution_count": 9,
   "metadata": {},
   "outputs": [
    {
     "data": {
      "text/plain": [
       "19.95"
      ]
     },
     "execution_count": 9,
     "metadata": {},
     "output_type": "execute_result"
    }
   ],
   "source": [
    "# Pandas\n",
    "x__.cov(y__)   # or y__.cov(x__)"
   ]
  },
  {
   "cell_type": "markdown",
   "metadata": {},
   "source": [
    "### Sample Correlation\n",
    "$r_{xy}=\\frac{cov_{xy}}{\\sqrt{var_x * var_y}}$"
   ]
  },
  {
   "cell_type": "code",
   "execution_count": 42,
   "metadata": {},
   "outputs": [],
   "source": [
    "def samp_corr(x,y):\n",
    "        if len(x)==len(y):\n",
    "            n=len(x)\n",
    "            x_mean= sum(x)/n\n",
    "            y_mean= sum(y)/n\n",
    "            cov_xy= sum( (x[k]-x_mean)*(y[k]-y_mean) for k in range(n))/(n-1)\n",
    "            x_var = sum( (item - x_mean)**2 for item in x)/ (n-1)\n",
    "            y_var = sum( (item - y_mean)**2 for item in y)/ (n-1)\n",
    "            x_std, y_std = x_var**0.5, y_var **0.5\n",
    "            corr_xy = cov_xy/ (x_std * y_std)\n",
    "            return (corr_xy)\n",
    "        else:\n",
    "            print('Lists are of different length!')"
   ]
  },
  {
   "cell_type": "code",
   "execution_count": 12,
   "metadata": {},
   "outputs": [
    {
     "data": {
      "text/plain": [
       "0.861950005631606"
      ]
     },
     "execution_count": 12,
     "metadata": {},
     "output_type": "execute_result"
    }
   ],
   "source": [
    "samp_corr(x,y)"
   ]
  },
  {
   "cell_type": "code",
   "execution_count": 13,
   "metadata": {},
   "outputs": [
    {
     "data": {
      "text/plain": [
       "(0.8619500056316061, 5.122760847201135e-07)"
      ]
     },
     "execution_count": 13,
     "metadata": {},
     "output_type": "execute_result"
    }
   ],
   "source": [
    "# SciPy - pearsonr() returns a tuple with two values (Correlation co-efficient and p-value)\n",
    "scipy.stats.pearsonr(x_,y_)"
   ]
  },
  {
   "cell_type": "markdown",
   "metadata": {},
   "source": [
    "We can use the `scipy.stats.linregress()` to get the same result.\n",
    "`linregress()` takes x_ and y_, performs linear regression, and returns the results. \n",
    "slope and intercept define the equation of the regression line, while rvalue is the correlation coefficient. "
   ]
  },
  {
   "cell_type": "code",
   "execution_count": 15,
   "metadata": {},
   "outputs": [
    {
     "data": {
      "text/plain": [
       "LinregressResult(slope=0.5181818181818181, intercept=5.714285714285714, rvalue=0.861950005631606, pvalue=5.122760847201165e-07, stderr=0.06992387660074979, intercept_stderr=0.4234100995002589)"
      ]
     },
     "execution_count": 15,
     "metadata": {},
     "output_type": "execute_result"
    }
   ],
   "source": [
    "scipy.stats.linregress(x_,y_)"
   ]
  },
  {
   "cell_type": "code",
   "execution_count": 16,
   "metadata": {},
   "outputs": [
    {
     "data": {
      "text/plain": [
       "0.861950005631606"
      ]
     },
     "execution_count": 16,
     "metadata": {},
     "output_type": "execute_result"
    }
   ],
   "source": [
    "scipy.stats.linregress(x_,y_).rvalue"
   ]
  },
  {
   "cell_type": "code",
   "execution_count": 14,
   "metadata": {},
   "outputs": [
    {
     "data": {
      "text/plain": [
       "array([[1.        , 0.86195001],\n",
       "       [0.86195001, 1.        ]])"
      ]
     },
     "execution_count": 14,
     "metadata": {},
     "output_type": "execute_result"
    }
   ],
   "source": [
    "# NumPy corrcoef() returns the correlation matrix\n",
    "np.corrcoef(x_,y_)"
   ]
  },
  {
   "cell_type": "code",
   "execution_count": 17,
   "metadata": {},
   "outputs": [
    {
     "data": {
      "text/plain": [
       "0.8619500056316061"
      ]
     },
     "execution_count": 17,
     "metadata": {},
     "output_type": "execute_result"
    }
   ],
   "source": [
    "# Pandas\n",
    "x__.corr(y__)   # or y__.corr(x__)"
   ]
  },
  {
   "cell_type": "code",
   "execution_count": null,
   "metadata": {},
   "outputs": [],
   "source": []
  }
 ],
 "metadata": {
  "kernelspec": {
   "display_name": "Python 3",
   "language": "python",
   "name": "python3"
  },
  "language_info": {
   "codemirror_mode": {
    "name": "ipython",
    "version": 3
   },
   "file_extension": ".py",
   "mimetype": "text/x-python",
   "name": "python",
   "nbconvert_exporter": "python",
   "pygments_lexer": "ipython3",
   "version": "3.7.3"
  }
 },
 "nbformat": 4,
 "nbformat_minor": 2
}
